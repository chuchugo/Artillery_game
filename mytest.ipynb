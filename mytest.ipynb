{
 "cells": [
  {
   "cell_type": "code",
   "execution_count": 117,
   "metadata": {},
   "outputs": [],
   "source": [
    "field = [2000,1000]\n",
    "cannon1_initial_positon = [500,0]\n",
    "cannon2_initial_positon = [1500,000]\n",
    "ball_diameter = 0.1 #meters\n",
    "ball_radius = ball_diameter/2\n",
    "ball_mass = 1 #kg\n",
    "air_density = 1 #kg/m^3\n",
    "\n",
    "\n"
   ]
  },
  {
   "cell_type": "code",
   "execution_count": 114,
   "metadata": {},
   "outputs": [
    {
     "data": {
      "text/plain": [
       "461.42142099600085"
      ]
     },
     "execution_count": 114,
     "metadata": {},
     "output_type": "execute_result"
    }
   ],
   "source": [
    "C_d = 0.47\n",
    "A = math.pi * ball_radius * ball_radius \n",
    "k = 0.5  * C_d * A * air_density \n",
    "k *500*500"
   ]
  },
  {
   "cell_type": "code",
   "execution_count": 118,
   "metadata": {},
   "outputs": [
    {
     "name": "stdout",
     "output_type": "stream",
     "text": [
      "1 759.8790817970371 264.17229896597865 21.24788285755824 29.834317195441372\n",
      "2 780.2258730494353 288.18520622227425 19.44569964723819 18.191497317149835\n"
     ]
    },
    {
     "name": "stderr",
     "output_type": "stream",
     "text": [
      "Traceback (most recent call last):\n",
      "  File \"_pydevd_bundle/pydevd_cython.pyx\", line 1078, in _pydevd_bundle.pydevd_cython.PyDBFrame.trace_dispatch\n",
      "  File \"_pydevd_bundle/pydevd_cython.pyx\", line 297, in _pydevd_bundle.pydevd_cython.PyDBFrame.do_wait_suspend\n",
      "  File \"/Users/cc/opt/anaconda3/lib/python3.9/site-packages/debugpy/_vendored/pydevd/pydevd.py\", line 1949, in do_wait_suspend\n",
      "    keep_suspended = self._do_wait_suspend(thread, frame, event, arg, suspend_type, from_this_thread, frames_tracker)\n",
      "  File \"/Users/cc/opt/anaconda3/lib/python3.9/site-packages/debugpy/_vendored/pydevd/pydevd.py\", line 1984, in _do_wait_suspend\n",
      "    time.sleep(0.01)\n",
      "KeyboardInterrupt\n"
     ]
    },
    {
     "ename": "KeyboardInterrupt",
     "evalue": "",
     "output_type": "error",
     "traceback": [
      "\u001b[0;31m---------------------------------------------------------------------------\u001b[0m",
      "\u001b[0;31mKeyboardInterrupt\u001b[0m                         Traceback (most recent call last)",
      "\u001b[0;32m/var/folders/tz/hrdwjrcd3ysczgtsdtl2pwtc0000gn/T/ipykernel_68318/3584481029.py\u001b[0m in \u001b[0;36m<module>\u001b[0;34m\u001b[0m\n\u001b[1;32m     80\u001b[0m \u001b[0mcannon\u001b[0m\u001b[0;34m,\u001b[0m\u001b[0mangel_to_cannon\u001b[0m\u001b[0;34m,\u001b[0m\u001b[0mvelocity_to_cannon\u001b[0m\u001b[0;34m,\u001b[0m\u001b[0mwind_speed\u001b[0m\u001b[0;34m,\u001b[0m\u001b[0mdt\u001b[0m \u001b[0;34m=\u001b[0m\u001b[0;31m \u001b[0m\u001b[0;31m\\\u001b[0m\u001b[0;34m\u001b[0m\u001b[0;34m\u001b[0m\u001b[0m\n\u001b[1;32m     81\u001b[0m     \u001b[0;36m1\u001b[0m\u001b[0;34m,\u001b[0m\u001b[0;36m45\u001b[0m\u001b[0;34m,\u001b[0m\u001b[0;36m500\u001b[0m\u001b[0;34m*\u001b[0m\u001b[0;36m1.41\u001b[0m\u001b[0;34m,\u001b[0m\u001b[0;34m-\u001b[0m\u001b[0;36m10\u001b[0m\u001b[0;34m,\u001b[0m\u001b[0;36m1\u001b[0m\u001b[0;34m\u001b[0m\u001b[0;34m\u001b[0m\u001b[0m\n\u001b[0;32m---> 82\u001b[0;31m \u001b[0mcalculate_trajectory\u001b[0m\u001b[0;34m(\u001b[0m\u001b[0mcannon\u001b[0m\u001b[0;34m,\u001b[0m\u001b[0mangel_to_cannon\u001b[0m\u001b[0;34m,\u001b[0m\u001b[0mvelocity_to_cannon\u001b[0m\u001b[0;34m,\u001b[0m\u001b[0mwind_speed\u001b[0m\u001b[0;34m,\u001b[0m\u001b[0mdt\u001b[0m\u001b[0;34m)\u001b[0m\u001b[0;34m\u001b[0m\u001b[0;34m\u001b[0m\u001b[0m\n\u001b[0m",
      "\u001b[0;32m/var/folders/tz/hrdwjrcd3ysczgtsdtl2pwtc0000gn/T/ipykernel_68318/3584481029.py\u001b[0m in \u001b[0;36mcalculate_trajectory\u001b[0;34m(cannon, angel_to_cannon, velocity_to_cannon, wind_speed, dt)\u001b[0m\n\u001b[1;32m     60\u001b[0m                 \u001b[0mFd_t_minus_1\u001b[0m\u001b[0;34m[\u001b[0m\u001b[0maxis\u001b[0m\u001b[0;34m]\u001b[0m \u001b[0;34m=\u001b[0m \u001b[0;36m0\u001b[0m\u001b[0;34m\u001b[0m\u001b[0;34m\u001b[0m\u001b[0m\n\u001b[1;32m     61\u001b[0m             \u001b[0;32melse\u001b[0m\u001b[0;34m:\u001b[0m\u001b[0;34m\u001b[0m\u001b[0;34m\u001b[0m\u001b[0m\n\u001b[0;32m---> 62\u001b[0;31m                 \u001b[0mFd_t_minus_1\u001b[0m\u001b[0;34m[\u001b[0m\u001b[0maxis\u001b[0m\u001b[0;34m]\u001b[0m \u001b[0;34m=\u001b[0m \u001b[0;34m-\u001b[0m \u001b[0mVa_t_minus_1\u001b[0m\u001b[0;34m[\u001b[0m\u001b[0maxis\u001b[0m\u001b[0;34m]\u001b[0m \u001b[0;34m*\u001b[0m\u001b[0mVa_t_minus_1\u001b[0m\u001b[0;34m[\u001b[0m\u001b[0maxis\u001b[0m\u001b[0;34m]\u001b[0m \u001b[0;34m*\u001b[0m \u001b[0mk\u001b[0m \u001b[0;34m*\u001b[0m\u001b[0;31m \u001b[0m\u001b[0;31m\\\u001b[0m\u001b[0;34m\u001b[0m\u001b[0;34m\u001b[0m\u001b[0m\n\u001b[0m\u001b[1;32m     63\u001b[0m                     \u001b[0;34m(\u001b[0m\u001b[0mVa_t_minus_1\u001b[0m\u001b[0;34m[\u001b[0m\u001b[0maxis\u001b[0m\u001b[0;34m]\u001b[0m \u001b[0;34m/\u001b[0m \u001b[0mabs\u001b[0m\u001b[0;34m(\u001b[0m\u001b[0mVa_t_minus_1\u001b[0m\u001b[0;34m[\u001b[0m\u001b[0maxis\u001b[0m\u001b[0;34m]\u001b[0m\u001b[0;34m)\u001b[0m\u001b[0;34m)\u001b[0m \u001b[0;31m# is for direction of drag force\u001b[0m\u001b[0;34m\u001b[0m\u001b[0;34m\u001b[0m\u001b[0m\n\u001b[1;32m     64\u001b[0m \u001b[0;34m\u001b[0m\u001b[0m\n",
      "\u001b[0;32m/var/folders/tz/hrdwjrcd3ysczgtsdtl2pwtc0000gn/T/ipykernel_68318/3584481029.py\u001b[0m in \u001b[0;36mcalculate_trajectory\u001b[0;34m(cannon, angel_to_cannon, velocity_to_cannon, wind_speed, dt)\u001b[0m\n\u001b[1;32m     60\u001b[0m                 \u001b[0mFd_t_minus_1\u001b[0m\u001b[0;34m[\u001b[0m\u001b[0maxis\u001b[0m\u001b[0;34m]\u001b[0m \u001b[0;34m=\u001b[0m \u001b[0;36m0\u001b[0m\u001b[0;34m\u001b[0m\u001b[0;34m\u001b[0m\u001b[0m\n\u001b[1;32m     61\u001b[0m             \u001b[0;32melse\u001b[0m\u001b[0;34m:\u001b[0m\u001b[0;34m\u001b[0m\u001b[0;34m\u001b[0m\u001b[0m\n\u001b[0;32m---> 62\u001b[0;31m                 \u001b[0mFd_t_minus_1\u001b[0m\u001b[0;34m[\u001b[0m\u001b[0maxis\u001b[0m\u001b[0;34m]\u001b[0m \u001b[0;34m=\u001b[0m \u001b[0;34m-\u001b[0m \u001b[0mVa_t_minus_1\u001b[0m\u001b[0;34m[\u001b[0m\u001b[0maxis\u001b[0m\u001b[0;34m]\u001b[0m \u001b[0;34m*\u001b[0m\u001b[0mVa_t_minus_1\u001b[0m\u001b[0;34m[\u001b[0m\u001b[0maxis\u001b[0m\u001b[0;34m]\u001b[0m \u001b[0;34m*\u001b[0m \u001b[0mk\u001b[0m \u001b[0;34m*\u001b[0m\u001b[0;31m \u001b[0m\u001b[0;31m\\\u001b[0m\u001b[0;34m\u001b[0m\u001b[0;34m\u001b[0m\u001b[0m\n\u001b[0m\u001b[1;32m     63\u001b[0m                     \u001b[0;34m(\u001b[0m\u001b[0mVa_t_minus_1\u001b[0m\u001b[0;34m[\u001b[0m\u001b[0maxis\u001b[0m\u001b[0;34m]\u001b[0m \u001b[0;34m/\u001b[0m \u001b[0mabs\u001b[0m\u001b[0;34m(\u001b[0m\u001b[0mVa_t_minus_1\u001b[0m\u001b[0;34m[\u001b[0m\u001b[0maxis\u001b[0m\u001b[0;34m]\u001b[0m\u001b[0;34m)\u001b[0m\u001b[0;34m)\u001b[0m \u001b[0;31m# is for direction of drag force\u001b[0m\u001b[0;34m\u001b[0m\u001b[0;34m\u001b[0m\u001b[0m\n\u001b[1;32m     64\u001b[0m \u001b[0;34m\u001b[0m\u001b[0m\n",
      "\u001b[0;32m_pydevd_bundle/pydevd_cython.pyx\u001b[0m in \u001b[0;36m_pydevd_bundle.pydevd_cython.SafeCallWrapper.__call__\u001b[0;34m()\u001b[0m\n",
      "\u001b[0;32m_pydevd_bundle/pydevd_cython.pyx\u001b[0m in \u001b[0;36m_pydevd_bundle.pydevd_cython.PyDBFrame.trace_dispatch\u001b[0;34m()\u001b[0m\n",
      "\u001b[0;32m_pydevd_bundle/pydevd_cython.pyx\u001b[0m in \u001b[0;36m_pydevd_bundle.pydevd_cython.PyDBFrame.trace_dispatch\u001b[0;34m()\u001b[0m\n",
      "\u001b[0;32m_pydevd_bundle/pydevd_cython.pyx\u001b[0m in \u001b[0;36m_pydevd_bundle.pydevd_cython.PyDBFrame.trace_dispatch\u001b[0;34m()\u001b[0m\n",
      "\u001b[0;32m_pydevd_bundle/pydevd_cython.pyx\u001b[0m in \u001b[0;36m_pydevd_bundle.pydevd_cython.PyDBFrame.do_wait_suspend\u001b[0;34m()\u001b[0m\n",
      "\u001b[0;32m~/opt/anaconda3/lib/python3.9/site-packages/debugpy/_vendored/pydevd/pydevd.py\u001b[0m in \u001b[0;36mdo_wait_suspend\u001b[0;34m(self, thread, frame, event, arg, exception_type)\u001b[0m\n\u001b[1;32m   1947\u001b[0m \u001b[0;34m\u001b[0m\u001b[0m\n\u001b[1;32m   1948\u001b[0m             \u001b[0;32mwith\u001b[0m \u001b[0mself\u001b[0m\u001b[0;34m.\u001b[0m\u001b[0m_threads_suspended_single_notification\u001b[0m\u001b[0;34m.\u001b[0m\u001b[0mnotify_thread_suspended\u001b[0m\u001b[0;34m(\u001b[0m\u001b[0mthread_id\u001b[0m\u001b[0;34m,\u001b[0m \u001b[0mstop_reason\u001b[0m\u001b[0;34m)\u001b[0m\u001b[0;34m:\u001b[0m\u001b[0;34m\u001b[0m\u001b[0;34m\u001b[0m\u001b[0m\n\u001b[0;32m-> 1949\u001b[0;31m                 \u001b[0mkeep_suspended\u001b[0m \u001b[0;34m=\u001b[0m \u001b[0mself\u001b[0m\u001b[0;34m.\u001b[0m\u001b[0m_do_wait_suspend\u001b[0m\u001b[0;34m(\u001b[0m\u001b[0mthread\u001b[0m\u001b[0;34m,\u001b[0m \u001b[0mframe\u001b[0m\u001b[0;34m,\u001b[0m \u001b[0mevent\u001b[0m\u001b[0;34m,\u001b[0m \u001b[0marg\u001b[0m\u001b[0;34m,\u001b[0m \u001b[0msuspend_type\u001b[0m\u001b[0;34m,\u001b[0m \u001b[0mfrom_this_thread\u001b[0m\u001b[0;34m,\u001b[0m \u001b[0mframes_tracker\u001b[0m\u001b[0;34m)\u001b[0m\u001b[0;34m\u001b[0m\u001b[0;34m\u001b[0m\u001b[0m\n\u001b[0m\u001b[1;32m   1950\u001b[0m \u001b[0;34m\u001b[0m\u001b[0m\n\u001b[1;32m   1951\u001b[0m         \u001b[0mframes_list\u001b[0m \u001b[0;34m=\u001b[0m \u001b[0;32mNone\u001b[0m\u001b[0;34m\u001b[0m\u001b[0;34m\u001b[0m\u001b[0m\n",
      "\u001b[0;32m~/opt/anaconda3/lib/python3.9/site-packages/debugpy/_vendored/pydevd/pydevd.py\u001b[0m in \u001b[0;36m_do_wait_suspend\u001b[0;34m(self, thread, frame, event, arg, suspend_type, from_this_thread, frames_tracker)\u001b[0m\n\u001b[1;32m   1982\u001b[0m \u001b[0;34m\u001b[0m\u001b[0m\n\u001b[1;32m   1983\u001b[0m             \u001b[0mself\u001b[0m\u001b[0;34m.\u001b[0m\u001b[0mprocess_internal_commands\u001b[0m\u001b[0;34m(\u001b[0m\u001b[0;34m)\u001b[0m\u001b[0;34m\u001b[0m\u001b[0;34m\u001b[0m\u001b[0m\n\u001b[0;32m-> 1984\u001b[0;31m             \u001b[0mtime\u001b[0m\u001b[0;34m.\u001b[0m\u001b[0msleep\u001b[0m\u001b[0;34m(\u001b[0m\u001b[0;36m0.01\u001b[0m\u001b[0;34m)\u001b[0m\u001b[0;34m\u001b[0m\u001b[0;34m\u001b[0m\u001b[0m\n\u001b[0m\u001b[1;32m   1985\u001b[0m \u001b[0;34m\u001b[0m\u001b[0m\n\u001b[1;32m   1986\u001b[0m         \u001b[0mself\u001b[0m\u001b[0;34m.\u001b[0m\u001b[0mcancel_async_evaluation\u001b[0m\u001b[0;34m(\u001b[0m\u001b[0mget_current_thread_id\u001b[0m\u001b[0;34m(\u001b[0m\u001b[0mthread\u001b[0m\u001b[0;34m)\u001b[0m\u001b[0;34m,\u001b[0m \u001b[0mstr\u001b[0m\u001b[0;34m(\u001b[0m\u001b[0mid\u001b[0m\u001b[0;34m(\u001b[0m\u001b[0mframe\u001b[0m\u001b[0;34m)\u001b[0m\u001b[0;34m)\u001b[0m\u001b[0;34m)\u001b[0m\u001b[0;34m\u001b[0m\u001b[0;34m\u001b[0m\u001b[0m\n",
      "\u001b[0;31mKeyboardInterrupt\u001b[0m: "
     ]
    }
   ],
   "source": [
    "import math\n",
    "def calculate_trajectory(cannon,angel_to_cannon,velocity_to_cannon,wind_speed,dt):\n",
    "    trajectory = []\n",
    "    #get angle to ground\n",
    "    angel_to_ground = 0\n",
    "    if cannon == 2:\n",
    "        angel_to_ground = 180 - angel_to_cannon\n",
    "    else:\n",
    "        angel_to_ground = angel_to_cannon\n",
    "    #timestamp\n",
    "    t  = 0\n",
    "    #calculate the trajectory points\n",
    "    #1. prepare all the variables\n",
    "    # velocity to ground at time t\n",
    "    Vt = [0,0]\n",
    "    #velocity compared to wind\n",
    "    Va_t_minus_1 = [0,0]\n",
    "    #[Vx,Vy] = [V*cos(angel),V*sin(angel)]\n",
    "    Vt_minus_1 = [velocity_to_cannon * math.cos(angel_to_ground/180 * math.pi),\\\n",
    "        velocity_to_cannon * math.sin(angel_to_ground/180 * math.pi)]\n",
    "    #wind speed vector\n",
    "    Vw =[wind_speed,0]\n",
    "    \n",
    "    #gravity\n",
    "    G = [0 , -10 * ball_mass]\n",
    "    #drag force\n",
    "    Fd_t_minus_1 = [0,0]\n",
    "    #total force = drag force + gravity\n",
    "    F_t_minus_1 = [0,0]\n",
    "\n",
    "    #position at time t\n",
    "    Pt = []\n",
    "    if cannon == 1:\n",
    "        Pt = cannon1_initial_positon\n",
    "    elif cannon == 2:\n",
    "        Pt = cannon2_initial_positon\n",
    "    #velocity at time t-1\n",
    "    Pt_minus_1 = Pt\n",
    "   \n",
    "\n",
    "    #2. calculate the trajectory points until the ball hits the ground\n",
    "    while Pt[1] >= 0:\n",
    "        #For x axis, y axis\n",
    "        for axis in [0,1]:\n",
    "            #velocity compared to wind\n",
    "            Va_t_minus_1[axis] = Vt_minus_1[axis] - Vw[axis]\n",
    "            #drag force F_drag = 0.5 * C_d * A * air_density * v^2\n",
    "            # where:\n",
    "            # F_drag is the drag force.\n",
    "            # C_d is the drag coefficient, which is around 0.47 for a spherical object.\n",
    "            # A is the cross-sectional area of the ball.\n",
    "            # ρ is the air density.\n",
    "            # v is the velocity of the ball.\n",
    "            C_d = 0.47\n",
    "            A = math.pi * ball_radius * ball_radius \n",
    "            k = 0.5  * C_d * A * air_density \n",
    "            \n",
    "            #calculate f drag \n",
    "            if Va_t_minus_1[axis] == 0:\n",
    "                Fd_t_minus_1[axis] = 0\n",
    "            else:\n",
    "                Fd_t_minus_1[axis] = - Va_t_minus_1[axis] *Va_t_minus_1[axis] * k * \\\n",
    "                    (Va_t_minus_1[axis] / abs(Va_t_minus_1[axis])) # is for direction of drag force\n",
    "            \n",
    "            #calculate total force on the ball\n",
    "            F_t_minus_1[axis] = G[axis] + Fd_t_minus_1[axis]\n",
    "            #calculate the velocity at time t\n",
    "            Vt[axis] = Vt_minus_1[axis] + F_t_minus_1[axis]/ball_mass * dt\n",
    "            #calculate the position at time t\n",
    "            Pt[axis] = Pt_minus_1[axis] + Vt_minus_1[axis] * dt + 0.5 * F_t_minus_1[axis]/ball_mass * dt * dt\n",
    "            #update the velocity and position for next iteration\n",
    "            Vt_minus_1[axis] = Vt[axis]\n",
    "            Pt_minus_1[axis] = Pt[axis]\n",
    "        #update the trajectory\n",
    "        trajectory.append({'t':t,'x':Pt[0],'y':Pt[1]})\n",
    "        t += dt\n",
    "        print(t,Pt[0],Pt[1],Vt[0],Vt[1])\n",
    "    return trajectory\n",
    "\n",
    "cannon,angel_to_cannon,velocity_to_cannon,wind_speed,dt = \\\n",
    "    1,45,500*1.41,-10,1\n",
    "calculate_trajectory(cannon,angel_to_cannon,velocity_to_cannon,wind_speed,dt)\n"
   ]
  },
  {
   "cell_type": "code",
   "execution_count": 116,
   "metadata": {},
   "outputs": [
    {
     "data": {
      "text/plain": [
       "6.123233995736766e-17"
      ]
     },
     "execution_count": 116,
     "metadata": {},
     "output_type": "execute_result"
    }
   ],
   "source": [
    "angel_to_ground = 90\n",
    "a =  math.cos(angel_to_ground/180 * math.pi)\n",
    "a"
   ]
  }
 ],
 "metadata": {
  "kernelspec": {
   "display_name": "base",
   "language": "python",
   "name": "python3"
  },
  "language_info": {
   "codemirror_mode": {
    "name": "ipython",
    "version": 3
   },
   "file_extension": ".py",
   "mimetype": "text/x-python",
   "name": "python",
   "nbconvert_exporter": "python",
   "pygments_lexer": "ipython3",
   "version": "3.9.7"
  },
  "orig_nbformat": 4,
  "vscode": {
   "interpreter": {
    "hash": "427246f17c88321fc207e1df22bbfbf60d73ac3127db07e53ca61a776dcf46a7"
   }
  }
 },
 "nbformat": 4,
 "nbformat_minor": 2
}
